{
 "cells": [
  {
   "cell_type": "markdown",
   "id": "801bbb6b",
   "metadata": {},
   "source": [
    "# Development and Training of a Sinhala (si) Named Entity Recognition (NER) Model for SpaCy Framework\n",
    "\n",
    "## Ashen Weligalle (thawe276)"
   ]
  },
  {
   "cell_type": "code",
   "execution_count": 1,
   "id": "bcab12ff",
   "metadata": {},
   "outputs": [],
   "source": [
    "import spacy\n",
    "from spacy.tokens import DocBin\n",
    "from tqdm import tqdm\n",
    "import json\n",
    "\n",
    "si_nlp= spacy.blank(\"si\") # loading si model\n",
    "db= DocBin()\n",
    "\n",
    "# Open and load the JSON file with the correct encoding\n",
    "with open('./data/si_core_web_md_train.json', encoding='utf-8') as jsont_dat:\n",
    "    train_data = json.load(jsont_dat)\n",
    "\n",
    "with open('./data/si_core_web_md_valid.json', encoding='utf-8') as jsonv_dat:\n",
    "    valid_data = json.load(jsonv_dat)"
   ]
  },
  {
   "cell_type": "markdown",
   "id": "0638069f",
   "metadata": {},
   "source": [
    "Train and valid data open as a JSON format. In the below code snipt convert and save both, train and valid data as a SpaCy object. If there is a span empty with data it indicate as \"skipping entity\"."
   ]
  },
  {
   "cell_type": "code",
   "execution_count": 2,
   "id": "8d5526de",
   "metadata": {},
   "outputs": [
    {
     "name": "stderr",
     "output_type": "stream",
     "text": [
      "100%|██████████| 357/357 [00:00<00:00, 1497.93it/s]\n"
     ]
    },
    {
     "name": "stdout",
     "output_type": "stream",
     "text": [
      "Skipping entity\n",
      "Skipping entity\n",
      "Skipping entity\n",
      "Skipping entity\n",
      "Skipping entity\n",
      "Skipping entity\n",
      "Skipping entity\n"
     ]
    },
    {
     "name": "stderr",
     "output_type": "stream",
     "text": [
      "100%|██████████| 15/15 [00:00<00:00, 6554.28it/s]\n"
     ]
    }
   ],
   "source": [
    "# Crating spacy object using train_data and valid_data\n",
    "for text, annotations in tqdm(train_data['annotations']):\n",
    "    doc = si_nlp.make_doc(text)\n",
    "    ents=[]\n",
    "    for start,end, label in annotations['entities']:\n",
    "        span= doc.char_span(start,end,label=label,alignment_mode='contract')\n",
    "        if span is None:\n",
    "            print('Skipping entity')\n",
    "        else:\n",
    "            ents.append(span)\n",
    "    doc.ents= ents\n",
    "    db.add(doc)\n",
    "\n",
    "db.to_disk(\"./data/si_core_web_md_train.spacy\")\n",
    "\n",
    "for text, annotations in tqdm(valid_data['annotations']):\n",
    "    doc = si_nlp.make_doc(text)\n",
    "    ents=[]\n",
    "    for start,end, label in annotations['entities']:\n",
    "        span= doc.char_span(start,end,label=label,alignment_mode='contract')\n",
    "        if span is None:\n",
    "            print('Skipping entity')\n",
    "        else:\n",
    "            ents.append(span)\n",
    "    doc.ents= ents\n",
    "    db.add(doc)\n",
    "\n",
    "db.to_disk(\"./data/si_core_web_md_valid.spacy\")"
   ]
  },
  {
   "cell_type": "code",
   "execution_count": 19,
   "id": "473a390b",
   "metadata": {},
   "outputs": [
    {
     "name": "stdout",
     "output_type": "stream",
     "text": [
      "\u001b[38;5;4mℹ Generated config template specific for your use case\u001b[0m\n",
      "- Language: si\n",
      "- Pipeline: ner\n",
      "- Optimize for: efficiency\n",
      "- Hardware: CPU\n",
      "- Transformer: None\n",
      "\u001b[38;5;2m✔ Auto-filled config with all values\u001b[0m\n",
      "\u001b[38;5;2m✔ Saved config\u001b[0m\n",
      "config.cfg\n",
      "You can now add your data and train your pipeline:\n",
      "python -m spacy train config.cfg --paths.train ./train.spacy --paths.dev ./dev.spacy\n"
     ]
    },
    {
     "name": "stderr",
     "output_type": "stream",
     "text": [
      "c:\\Users\\PC\\AppData\\Local\\Programs\\Python\\Python312\\Lib\\site-packages\\transformers\\utils\\generic.py:441: FutureWarning: `torch.utils._pytree._register_pytree_node` is deprecated. Please use `torch.utils._pytree.register_pytree_node` instead.\n",
      "  _torch_pytree._register_pytree_node(\n",
      "c:\\Users\\PC\\AppData\\Local\\Programs\\Python\\Python312\\Lib\\site-packages\\transformers\\utils\\generic.py:309: FutureWarning: `torch.utils._pytree._register_pytree_node` is deprecated. Please use `torch.utils._pytree.register_pytree_node` instead.\n",
      "  _torch_pytree._register_pytree_node(\n"
     ]
    }
   ],
   "source": [
    "! python -m spacy init config config.cfg --lang si --pipeline ner --optimize efficiency"
   ]
  },
  {
   "cell_type": "code",
   "execution_count": 26,
   "id": "0147c47b",
   "metadata": {},
   "outputs": [
    {
     "name": "stdout",
     "output_type": "stream",
     "text": [
      "\u001b[38;5;4mℹ Saving to output directory: model\u001b[0m\n",
      "\u001b[38;5;4mℹ Using CPU\u001b[0m\n",
      "\u001b[1m\n",
      "=========================== Initializing pipeline ===========================\u001b[0m\n",
      "\u001b[38;5;2m✔ Initialized pipeline\u001b[0m\n",
      "\u001b[1m\n",
      "============================= Training pipeline =============================\u001b[0m\n",
      "\u001b[38;5;4mℹ Pipeline: ['tok2vec', 'ner']\u001b[0m\n",
      "\u001b[38;5;4mℹ Initial learn rate: 0.001\u001b[0m\n",
      "E    #       LOSS TOK2VEC  LOSS NER  ENTS_F  ENTS_P  ENTS_R  SCORE \n",
      "---  ------  ------------  --------  ------  ------  ------  ------\n",
      "  0       0          0.00     51.41    5.03    3.28   10.83    0.05\n",
      "  2     200       1199.69   6874.78   33.32   44.12   26.77    0.33\n",
      "  5     400       1610.90   5409.58   66.81   68.54   65.17    0.67\n",
      "  9     600       1489.28   3802.99   89.45   89.67   89.23    0.89\n",
      " 14     800       1130.51   2118.96   95.94   95.88   96.00    0.96\n",
      " 19    1000        981.34   1380.79   98.55   98.76   98.34    0.99\n",
      " 26    1200        861.88   1051.06   98.34   98.52   98.15    0.98\n",
      " 35    1400       1035.63    937.87   99.11   99.08   99.14    0.99\n",
      " 45    1600        984.82    842.11   99.29   99.20   99.38    0.99\n",
      " 58    1800        958.91    831.87   99.20   99.38   99.02    0.99\n",
      " 74    2000        878.08    747.12   99.38   99.38   99.38    0.99\n",
      " 94    2200        880.21    758.12   99.54   99.51   99.57    1.00\n",
      "118    2400        757.56    747.51   99.45   99.39   99.51    0.99\n",
      "143    2600        658.52    658.70   99.57   99.57   99.57    1.00\n",
      "168    2800        595.27    564.72   99.63   99.75   99.51    1.00\n",
      "193    3000        652.62    563.66   99.69   99.57   99.82    1.00\n",
      "218    3200        726.97    522.02   99.60   99.63   99.57    1.00\n",
      "243    3400        391.08    423.51   99.69   99.69   99.69    1.00\n",
      "268    3600        588.49    455.37   99.69   99.69   99.69    1.00\n",
      "293    3800        574.08    427.60   99.69   99.57   99.82    1.00\n",
      "318    4000       1076.79    564.66   99.63   99.63   99.63    1.00\n",
      "343    4200        473.34    426.62   99.63   99.57   99.69    1.00\n",
      "368    4400        651.88    450.77   99.66   99.69   99.63    1.00\n",
      "393    4600        981.73    451.61   99.72   99.63   99.82    1.00\n",
      "418    4800        522.07    391.66   99.72   99.69   99.75    1.00\n",
      "443    5000        469.49    351.42   99.72   99.82   99.63    1.00\n",
      "468    5200        883.74    422.81   99.63   99.63   99.63    1.00\n",
      "493    5400        574.36    392.18   99.72   99.63   99.82    1.00\n",
      "517    5600        597.10    361.47   99.66   99.63   99.69    1.00\n",
      "542    5800        382.66    300.83   99.72   99.69   99.75    1.00\n",
      "567    6000        525.75    344.74   99.63   99.63   99.63    1.00\n",
      "592    6200        619.12    335.48   99.72   99.63   99.82    1.00\n",
      "\u001b[38;5;2m✔ Saved pipeline to output directory\u001b[0m\n",
      "model\\model-last\n"
     ]
    },
    {
     "name": "stderr",
     "output_type": "stream",
     "text": [
      "c:\\Users\\PC\\AppData\\Local\\Programs\\Python\\Python312\\Lib\\site-packages\\transformers\\utils\\generic.py:441: FutureWarning: `torch.utils._pytree._register_pytree_node` is deprecated. Please use `torch.utils._pytree.register_pytree_node` instead.\n",
      "  _torch_pytree._register_pytree_node(\n",
      "c:\\Users\\PC\\AppData\\Local\\Programs\\Python\\Python312\\Lib\\site-packages\\transformers\\utils\\generic.py:309: FutureWarning: `torch.utils._pytree._register_pytree_node` is deprecated. Please use `torch.utils._pytree.register_pytree_node` instead.\n",
      "  _torch_pytree._register_pytree_node(\n"
     ]
    }
   ],
   "source": [
    "!python -m spacy train config.cfg --output ./model --paths.train ./data/si_core_web_md_train.spacy --paths.dev ./data/si_core_web_md_train.spacy"
   ]
  },
  {
   "cell_type": "code",
   "execution_count": 32,
   "id": "9a252a7a",
   "metadata": {},
   "outputs": [],
   "source": [
    "si_ner_nlp=spacy.load(\"./model/model-best\")"
   ]
  },
  {
   "cell_type": "code",
   "execution_count": 33,
   "id": "254898fa",
   "metadata": {},
   "outputs": [],
   "source": [
    "tex=si_ner_nlp(''' ජනපති හමුවීමට නියමිත චීන ප්‍රධානින් කවුද ?\n",
    "මෙම සංචාරයේ දී චීන ජනාධිපති ෂී ජින් පිං සමග අනුර කුමාර දිසානායක ජනාධිපතිවරයා, අන්‍යොන්‍ය වශයෙන් උනන්දුවක් දක්වන ක්ෂේත්‍ර ගණනාවක් පිළිබඳව සාකච්ඡා පැවැත්වීමට සැලසුම් කර ඇති බව ශ්‍රී ලංකාවේ විදේශ කටයුතු අමාත්‍යංශය නිවේදනයක් නිකුත් කරමින් පවසයි.\n",
    "\n",
    "ජනාධිපති අනුර කුමාර දිසානායක මෙම සංචාරයේදී චීන අග්‍රාමාත්‍ය ලී ච්‍යං (Li Qiang) සහ චීන ජාතික මහජන කොංග්‍රසයේ ස්ථාවර කමිටුවේ සභාපති ජාඕ ලීජි ඇතුළු රාජ්‍ය තාන්ත්‍රිකයින් පිරිසක් ද හමුවීමට නියමිත යි.\n",
    "\n",
    "එමෙන්ම මෙම චීන සංචාරයේදී ජනාධිපති අනුර කුමාර දිසානායක, තාක්ෂණික හා කෘෂිකාර්මික සංවර්ධනය මෙන්ම දිළිඳුකම පිටුදැකීම ආදී අරමුණු පෙරටු කරගත් ක්ෂේත්‍ර චාරිකා කිහිපයකට සහභාගි වීමට නියමිත අතර ඉහළ පෙළේ ව්‍යාපාරික හමු කිහිපයකට එක්වීමට ද සැලසුම් කර තිබේ.\n",
    "\n",
    "චීන කොමියුනිස්ට් පක්ෂය සමග ඇති සබඳතා මෙන්ම චීන ආයෝජකයින්ට සිත් ඇදගන්නා සුළු ආයෝජන අවස්ථා ලබාදීම හරහා ජනාධිපති අනුර කුමාර දිසානායකට චීනය සමග හොඳ ප්‍රතිරූපයක් ගොඩනගා ගැනීමට හැකි වනු ඇති බව ජාත්‍යන්තර සබඳතා පර්යේෂක සහ උපදේශක ආචාර්ය හසිත් කන්දඋඩහේවා බීබීසී සිංහල සේවයට අදහස් දක්වමින් පැවසීය.''')"
   ]
  },
  {
   "cell_type": "code",
   "execution_count": 37,
   "id": "7aedb684",
   "metadata": {},
   "outputs": [
    {
     "data": {
      "text/html": [
       "<span class=\"tex2jax_ignore\"><div class=\"entities\" style=\"line-height: 2.5; direction: ltr\"> \n",
       "<mark class=\"entity\" style=\"background: #aa9cfc; padding: 0.45em 0.6em; margin: 0 0.25em; line-height: 1; border-radius: 0.35em;\">\n",
       "    ජනපති\n",
       "    <span style=\"font-size: 0.8em; font-weight: bold; line-height: 1; border-radius: 0.35em; vertical-align: middle; margin-left: 0.5rem\">PERSON</span>\n",
       "</mark>\n",
       " හමුවීමට නියමිත චීන ප්‍රධානින් කවුද ?<br>මෙම සංචාරයේ දී චීන \n",
       "<mark class=\"entity\" style=\"background: #aa9cfc; padding: 0.45em 0.6em; margin: 0 0.25em; line-height: 1; border-radius: 0.35em;\">\n",
       "    ජනාධිපති\n",
       "    <span style=\"font-size: 0.8em; font-weight: bold; line-height: 1; border-radius: 0.35em; vertical-align: middle; margin-left: 0.5rem\">PERSON</span>\n",
       "</mark>\n",
       " ෂී \n",
       "<mark class=\"entity\" style=\"background: #9cc9cc; padding: 0.45em 0.6em; margin: 0 0.25em; line-height: 1; border-radius: 0.35em;\">\n",
       "    ජින්\n",
       "    <span style=\"font-size: 0.8em; font-weight: bold; line-height: 1; border-radius: 0.35em; vertical-align: middle; margin-left: 0.5rem\">FAC</span>\n",
       "</mark>\n",
       " පිං සමග \n",
       "<mark class=\"entity\" style=\"background: #aa9cfc; padding: 0.45em 0.6em; margin: 0 0.25em; line-height: 1; border-radius: 0.35em;\">\n",
       "    අනුර කුමාර දිසානායක\n",
       "    <span style=\"font-size: 0.8em; font-weight: bold; line-height: 1; border-radius: 0.35em; vertical-align: middle; margin-left: 0.5rem\">PERSON</span>\n",
       "</mark>\n",
       " \n",
       "<mark class=\"entity\" style=\"background: #aa9cfc; padding: 0.45em 0.6em; margin: 0 0.25em; line-height: 1; border-radius: 0.35em;\">\n",
       "    ජනාධිපතිවරයා\n",
       "    <span style=\"font-size: 0.8em; font-weight: bold; line-height: 1; border-radius: 0.35em; vertical-align: middle; margin-left: 0.5rem\">PERSON</span>\n",
       "</mark>\n",
       ", \n",
       "<mark class=\"entity\" style=\"background: #aa9cfc; padding: 0.45em 0.6em; margin: 0 0.25em; line-height: 1; border-radius: 0.35em;\">\n",
       "    අන්‍යොන්‍ය\n",
       "    <span style=\"font-size: 0.8em; font-weight: bold; line-height: 1; border-radius: 0.35em; vertical-align: middle; margin-left: 0.5rem\">PERSON</span>\n",
       "</mark>\n",
       " වශයෙන් උනන්දුවක් දක්වන \n",
       "<mark class=\"entity\" style=\"background: #bfeeb7; padding: 0.45em 0.6em; margin: 0 0.25em; line-height: 1; border-radius: 0.35em;\">\n",
       "    ක්ෂේත්‍ර ගණනාවක්\n",
       "    <span style=\"font-size: 0.8em; font-weight: bold; line-height: 1; border-radius: 0.35em; vertical-align: middle; margin-left: 0.5rem\">PRODUCT</span>\n",
       "</mark>\n",
       " පිළිබඳව සාකච්ඡා පැවැත්වීමට සැලසුම් කර ඇති බව \n",
       "<mark class=\"entity\" style=\"background: #7aecec; padding: 0.45em 0.6em; margin: 0 0.25em; line-height: 1; border-radius: 0.35em;\">\n",
       "    ශ්‍රී ලංකාවේ විදේශ කටයුතු අමාත්‍යංශය\n",
       "    <span style=\"font-size: 0.8em; font-weight: bold; line-height: 1; border-radius: 0.35em; vertical-align: middle; margin-left: 0.5rem\">ORG</span>\n",
       "</mark>\n",
       " නිවේදනයක් නිකුත් කරමින් පවසයි.<br><br>\n",
       "<mark class=\"entity\" style=\"background: #aa9cfc; padding: 0.45em 0.6em; margin: 0 0.25em; line-height: 1; border-radius: 0.35em;\">\n",
       "    ජනාධිපති\n",
       "    <span style=\"font-size: 0.8em; font-weight: bold; line-height: 1; border-radius: 0.35em; vertical-align: middle; margin-left: 0.5rem\">PERSON</span>\n",
       "</mark>\n",
       " \n",
       "<mark class=\"entity\" style=\"background: #aa9cfc; padding: 0.45em 0.6em; margin: 0 0.25em; line-height: 1; border-radius: 0.35em;\">\n",
       "    අනුර කුමාර දිසානායක\n",
       "    <span style=\"font-size: 0.8em; font-weight: bold; line-height: 1; border-radius: 0.35em; vertical-align: middle; margin-left: 0.5rem\">PERSON</span>\n",
       "</mark>\n",
       " මෙම සංචාරයේදී චීන අග්‍රාමාත්‍ය ලී \n",
       "<mark class=\"entity\" style=\"background: #bfe1d9; padding: 0.45em 0.6em; margin: 0 0.25em; line-height: 1; border-radius: 0.35em;\">\n",
       "    ච්‍යං\n",
       "    <span style=\"font-size: 0.8em; font-weight: bold; line-height: 1; border-radius: 0.35em; vertical-align: middle; margin-left: 0.5rem\">DATE</span>\n",
       "</mark>\n",
       " (\n",
       "<mark class=\"entity\" style=\"background: #bfe1d9; padding: 0.45em 0.6em; margin: 0 0.25em; line-height: 1; border-radius: 0.35em;\">\n",
       "    Li Qiang\n",
       "    <span style=\"font-size: 0.8em; font-weight: bold; line-height: 1; border-radius: 0.35em; vertical-align: middle; margin-left: 0.5rem\">DATE</span>\n",
       "</mark>\n",
       ") සහ චීන \n",
       "<mark class=\"entity\" style=\"background: #aa9cfc; padding: 0.45em 0.6em; margin: 0 0.25em; line-height: 1; border-radius: 0.35em;\">\n",
       "    ජාතික මහජන\n",
       "    <span style=\"font-size: 0.8em; font-weight: bold; line-height: 1; border-radius: 0.35em; vertical-align: middle; margin-left: 0.5rem\">PERSON</span>\n",
       "</mark>\n",
       " කොංග්‍රසයේ ස්ථාවර කමිටුවේ \n",
       "<mark class=\"entity\" style=\"background: #aa9cfc; padding: 0.45em 0.6em; margin: 0 0.25em; line-height: 1; border-radius: 0.35em;\">\n",
       "    සභාපති\n",
       "    <span style=\"font-size: 0.8em; font-weight: bold; line-height: 1; border-radius: 0.35em; vertical-align: middle; margin-left: 0.5rem\">PERSON</span>\n",
       "</mark>\n",
       " \n",
       "<mark class=\"entity\" style=\"background: #c887fb; padding: 0.45em 0.6em; margin: 0 0.25em; line-height: 1; border-radius: 0.35em;\">\n",
       "    ජාඕ\n",
       "    <span style=\"font-size: 0.8em; font-weight: bold; line-height: 1; border-radius: 0.35em; vertical-align: middle; margin-left: 0.5rem\">NORP</span>\n",
       "</mark>\n",
       " \n",
       "<mark class=\"entity\" style=\"background: #ff9561; padding: 0.45em 0.6em; margin: 0 0.25em; line-height: 1; border-radius: 0.35em;\">\n",
       "    ලීජි\n",
       "    <span style=\"font-size: 0.8em; font-weight: bold; line-height: 1; border-radius: 0.35em; vertical-align: middle; margin-left: 0.5rem\">LOC</span>\n",
       "</mark>\n",
       " ඇතුළු \n",
       "<mark class=\"entity\" style=\"background: #7aecec; padding: 0.45em 0.6em; margin: 0 0.25em; line-height: 1; border-radius: 0.35em;\">\n",
       "    රාජ්‍ය තාන්ත්‍රිකයින්\n",
       "    <span style=\"font-size: 0.8em; font-weight: bold; line-height: 1; border-radius: 0.35em; vertical-align: middle; margin-left: 0.5rem\">ORG</span>\n",
       "</mark>\n",
       " පිරිසක් ද හමුවීමට නියමිත යි.<br><br>එමෙන්ම මෙම චීන සංචාරයේදී \n",
       "<mark class=\"entity\" style=\"background: #aa9cfc; padding: 0.45em 0.6em; margin: 0 0.25em; line-height: 1; border-radius: 0.35em;\">\n",
       "    ජනාධිපති\n",
       "    <span style=\"font-size: 0.8em; font-weight: bold; line-height: 1; border-radius: 0.35em; vertical-align: middle; margin-left: 0.5rem\">PERSON</span>\n",
       "</mark>\n",
       " \n",
       "<mark class=\"entity\" style=\"background: #aa9cfc; padding: 0.45em 0.6em; margin: 0 0.25em; line-height: 1; border-radius: 0.35em;\">\n",
       "    අනුර කුමාර දිසානායක\n",
       "    <span style=\"font-size: 0.8em; font-weight: bold; line-height: 1; border-radius: 0.35em; vertical-align: middle; margin-left: 0.5rem\">PERSON</span>\n",
       "</mark>\n",
       ", තාක්ෂණික හා කෘෂිකාර්මික සංවර්ධනය මෙන්ම \n",
       "<mark class=\"entity\" style=\"background: #ffeb80; padding: 0.45em 0.6em; margin: 0 0.25em; line-height: 1; border-radius: 0.35em;\">\n",
       "    දිළිඳුකම පිටුදැකීම ආදී\n",
       "    <span style=\"font-size: 0.8em; font-weight: bold; line-height: 1; border-radius: 0.35em; vertical-align: middle; margin-left: 0.5rem\">EVENT</span>\n",
       "</mark>\n",
       " \n",
       "<mark class=\"entity\" style=\"background: #c887fb; padding: 0.45em 0.6em; margin: 0 0.25em; line-height: 1; border-radius: 0.35em;\">\n",
       "    අරමුණු\n",
       "    <span style=\"font-size: 0.8em; font-weight: bold; line-height: 1; border-radius: 0.35em; vertical-align: middle; margin-left: 0.5rem\">NORP</span>\n",
       "</mark>\n",
       " පෙරටු කරගත් ක්ෂේත්‍ර චාරිකා කිහිපයකට සහභාගි වීමට නියමිත අතර \n",
       "<mark class=\"entity\" style=\"background: #ffeb80; padding: 0.45em 0.6em; margin: 0 0.25em; line-height: 1; border-radius: 0.35em;\">\n",
       "    ඉහළ පෙළේ\n",
       "    <span style=\"font-size: 0.8em; font-weight: bold; line-height: 1; border-radius: 0.35em; vertical-align: middle; margin-left: 0.5rem\">EVENT</span>\n",
       "</mark>\n",
       " ව්‍යාපාරික හමු කිහිපයකට එක්වීමට ද සැලසුම් කර තිබේ.<br><br>චීන \n",
       "<mark class=\"entity\" style=\"background: #bfeeb7; padding: 0.45em 0.6em; margin: 0 0.25em; line-height: 1; border-radius: 0.35em;\">\n",
       "    කොමියුනිස්ට්\n",
       "    <span style=\"font-size: 0.8em; font-weight: bold; line-height: 1; border-radius: 0.35em; vertical-align: middle; margin-left: 0.5rem\">PRODUCT</span>\n",
       "</mark>\n",
       " \n",
       "<mark class=\"entity\" style=\"background: #c887fb; padding: 0.45em 0.6em; margin: 0 0.25em; line-height: 1; border-radius: 0.35em;\">\n",
       "    පක්ෂය\n",
       "    <span style=\"font-size: 0.8em; font-weight: bold; line-height: 1; border-radius: 0.35em; vertical-align: middle; margin-left: 0.5rem\">NORP</span>\n",
       "</mark>\n",
       " සමග ඇති \n",
       "<mark class=\"entity\" style=\"background: #ffeb80; padding: 0.45em 0.6em; margin: 0 0.25em; line-height: 1; border-radius: 0.35em;\">\n",
       "    සබඳතා\n",
       "    <span style=\"font-size: 0.8em; font-weight: bold; line-height: 1; border-radius: 0.35em; vertical-align: middle; margin-left: 0.5rem\">EVENT</span>\n",
       "</mark>\n",
       " මෙන්ම චීන ආයෝජකයින්ට \n",
       "<mark class=\"entity\" style=\"background: #c887fb; padding: 0.45em 0.6em; margin: 0 0.25em; line-height: 1; border-radius: 0.35em;\">\n",
       "    සිත්\n",
       "    <span style=\"font-size: 0.8em; font-weight: bold; line-height: 1; border-radius: 0.35em; vertical-align: middle; margin-left: 0.5rem\">NORP</span>\n",
       "</mark>\n",
       " ඇදගන්නා සුළු \n",
       "<mark class=\"entity\" style=\"background: #ffeb80; padding: 0.45em 0.6em; margin: 0 0.25em; line-height: 1; border-radius: 0.35em;\">\n",
       "    ආයෝජන අවස්ථා\n",
       "    <span style=\"font-size: 0.8em; font-weight: bold; line-height: 1; border-radius: 0.35em; vertical-align: middle; margin-left: 0.5rem\">EVENT</span>\n",
       "</mark>\n",
       " ලබාදීම හරහා \n",
       "<mark class=\"entity\" style=\"background: #aa9cfc; padding: 0.45em 0.6em; margin: 0 0.25em; line-height: 1; border-radius: 0.35em;\">\n",
       "    ජනාධිපති\n",
       "    <span style=\"font-size: 0.8em; font-weight: bold; line-height: 1; border-radius: 0.35em; vertical-align: middle; margin-left: 0.5rem\">PERSON</span>\n",
       "</mark>\n",
       " \n",
       "<mark class=\"entity\" style=\"background: #aa9cfc; padding: 0.45em 0.6em; margin: 0 0.25em; line-height: 1; border-radius: 0.35em;\">\n",
       "    අනුර කුමාර දිසානායකට\n",
       "    <span style=\"font-size: 0.8em; font-weight: bold; line-height: 1; border-radius: 0.35em; vertical-align: middle; margin-left: 0.5rem\">PERSON</span>\n",
       "</mark>\n",
       " \n",
       "<mark class=\"entity\" style=\"background: #feca74; padding: 0.45em 0.6em; margin: 0 0.25em; line-height: 1; border-radius: 0.35em;\">\n",
       "    චීනය\n",
       "    <span style=\"font-size: 0.8em; font-weight: bold; line-height: 1; border-radius: 0.35em; vertical-align: middle; margin-left: 0.5rem\">GPE</span>\n",
       "</mark>\n",
       " සමග හොඳ \n",
       "<mark class=\"entity\" style=\"background: #c887fb; padding: 0.45em 0.6em; margin: 0 0.25em; line-height: 1; border-radius: 0.35em;\">\n",
       "    ප්‍රතිරූපයක්\n",
       "    <span style=\"font-size: 0.8em; font-weight: bold; line-height: 1; border-radius: 0.35em; vertical-align: middle; margin-left: 0.5rem\">NORP</span>\n",
       "</mark>\n",
       " ගොඩනගා ගැනීමට හැකි වනු ඇති බව \n",
       "<mark class=\"entity\" style=\"background: #7aecec; padding: 0.45em 0.6em; margin: 0 0.25em; line-height: 1; border-radius: 0.35em;\">\n",
       "    ජාත්‍යන්තර සබඳතා පර්යේෂක\n",
       "    <span style=\"font-size: 0.8em; font-weight: bold; line-height: 1; border-radius: 0.35em; vertical-align: middle; margin-left: 0.5rem\">ORG</span>\n",
       "</mark>\n",
       " සහ උපදේශක \n",
       "<mark class=\"entity\" style=\"background: #aa9cfc; padding: 0.45em 0.6em; margin: 0 0.25em; line-height: 1; border-radius: 0.35em;\">\n",
       "    ආචාර්ය\n",
       "    <span style=\"font-size: 0.8em; font-weight: bold; line-height: 1; border-radius: 0.35em; vertical-align: middle; margin-left: 0.5rem\">PERSON</span>\n",
       "</mark>\n",
       " හසිත් කන්දඋඩහේවා \n",
       "<mark class=\"entity\" style=\"background: #7aecec; padding: 0.45em 0.6em; margin: 0 0.25em; line-height: 1; border-radius: 0.35em;\">\n",
       "    බීබීසී සිංහල\n",
       "    <span style=\"font-size: 0.8em; font-weight: bold; line-height: 1; border-radius: 0.35em; vertical-align: middle; margin-left: 0.5rem\">ORG</span>\n",
       "</mark>\n",
       " සේවයට අදහස් දක්වමින් පැවසීය.</div></span>"
      ],
      "text/plain": [
       "<IPython.core.display.HTML object>"
      ]
     },
     "metadata": {},
     "output_type": "display_data"
    }
   ],
   "source": [
    "spacy.displacy.render(tex,style=\"ent\",jupyter=True)"
   ]
  }
 ],
 "metadata": {
  "kernelspec": {
   "display_name": "Python 3",
   "language": "python",
   "name": "python3"
  },
  "language_info": {
   "codemirror_mode": {
    "name": "ipython",
    "version": 3
   },
   "file_extension": ".py",
   "mimetype": "text/x-python",
   "name": "python",
   "nbconvert_exporter": "python",
   "pygments_lexer": "ipython3",
   "version": "3.12.1"
  }
 },
 "nbformat": 4,
 "nbformat_minor": 5
}
